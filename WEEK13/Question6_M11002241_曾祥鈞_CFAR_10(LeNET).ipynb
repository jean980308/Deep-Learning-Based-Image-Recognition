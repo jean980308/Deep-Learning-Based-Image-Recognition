{
  "nbformat": 4,
  "nbformat_minor": 0,
  "metadata": {
    "colab": {
      "name": "M11002241_曾祥鈞_CFAR-10(LeNET).ipynb",
      "private_outputs": true,
      "provenance": [],
      "collapsed_sections": []
    },
    "kernelspec": {
      "name": "python3",
      "display_name": "Python 3"
    },
    "language_info": {
      "name": "python"
    }
  },
  "cells": [
    {
      "cell_type": "code",
      "execution_count": null,
      "metadata": {
        "id": "thZ5rcKmSaF5"
      },
      "outputs": [],
      "source": [
        "import torch\n",
        "import torchvision\n",
        "import torchvision.transforms as transforms\n",
        "\n",
        "transform = transforms.Compose([transforms.ToTensor(),transforms.Normalize((0.5,0.5,0.5),(0.5,0.5,0.5))])\n",
        "\n",
        "batch_size = 4\n",
        "\n",
        "trainset     = torchvision.datasets.CIFAR10(root='./data' ,train=True,download=True,transform=transform)\n",
        "\n",
        "trainloader   = torch.utils.data.DataLoader(trainset , batch_size=batch_size,shuffle=True , num_workers=2)\n",
        "\n",
        "testset     = torchvision.datasets.CIFAR10(root='./data' ,train=True,download=True , transform=transform)\n",
        "\n",
        "testloader =torch.utils.data.DataLoader(testset , batch_size=batch_size ,shuffle=False ,num_workers=2)\n",
        "\n",
        "classes = ('plane' , 'car' ,'bird' , 'cat' , 'deer' ,'dog' ,'frog' ,'horse' ,'ship' , 'truck')"
      ]
    },
    {
      "cell_type": "code",
      "source": [
        "\n",
        "\n",
        "import matplotlib.pyplot as plt\n",
        "import numpy as np\n",
        "\n",
        "def imshow(img):\n",
        "    img= img/2 +0.5\n",
        "    npimg=img.numpy()\n",
        "    plt.imshow(np.transpose(npimg, (1,2,0)))\n",
        "    plt.show()\n",
        "    \n",
        "dataiter= iter(trainloader)\n",
        "images , labels =dataiter.next()\n",
        "\n",
        "imshow(torchvision.utils.make_grid(images))\n",
        "\n",
        "print(''.join(f'{classes[labels[j]]:5s}' for j in range(batch_size)))\n"
      ],
      "metadata": {
        "id": "vuMAvw3mx4xZ"
      },
      "execution_count": null,
      "outputs": []
    },
    {
      "cell_type": "code",
      "source": [
        "\n",
        "\n",
        "import torch.nn as nn\n",
        "import torch.nn.functional as func\n",
        "\n",
        "class LeNet(nn.Module):\n",
        "\n",
        "\n",
        "    def __init__(self):\n",
        "        super(LeNet,self).__init__() #复制并使用Net的父类的初始化方法，即先运行nn.Module的初始化函数\n",
        "        self.conv1 = nn.Conv2d(3, 6, kernel_size=5) # 定义conv1函数的是图像卷积函数：输入为图像（1个频道，即灰度图）,输出为 6张特征图, 卷积核为5x5正方形\n",
        "        self.conv2 = nn.Conv2d(6, 16, kernel_size=5)# 定义conv2函数的是图像卷积函数：输入为6张特征图,输出为16张特征图, 卷积核为5x5正方形\n",
        "        self.fc1   = nn.Linear(16*5*5, 120) # 定义fc1（fullconnect）全连接函数1为线性函数：y = Wx + b，并将16*5*5个节点连接到120个节点上。\n",
        "        self.fc2   = nn.Linear(120, 84)#定义fc2（fullconnect）全连接函数2为线性函数：y = Wx + b，并将120个节点连接到84个节点上。\n",
        "        self.fc3   = nn.Linear(84, 10)#定义fc3（fullconnect）全连接函数3为线性函数：y = Wx + b，并将84个节点连接到10个节点上。                              \n",
        "         \n",
        "    #定义Net的初始化函数，这个函数定义了该神经网络的基本结构\n",
        "                     \n",
        "    def forward(self,x):\n",
        "        x=func.relu(self.conv1(x))\n",
        "        x=func.max_pool2d(x,2)\n",
        "        x=func.relu(self.conv2(x))\n",
        "        x=func.max_pool2d(x,2)\n",
        "        x=x.view(x.size(0), -1)\n",
        "        x=func.relu(self.fc1(x))\n",
        "        x=func.relu(self.fc2(x))\n",
        "        x=self.fc3(x)\n",
        "        return x"
      ],
      "metadata": {
        "id": "Vh7sqwuyPDZA"
      },
      "execution_count": null,
      "outputs": []
    },
    {
      "cell_type": "code",
      "source": [
        "\n",
        "import torch.nn as nn\n",
        "import torch.nn.functional as F\n",
        "\n",
        "class Net(nn.Module):\n",
        "\n",
        "\n",
        "    def __init__(self):\n",
        "        super().__init__() #复制并使用Net的父类的初始化方法，即先运行nn.Module的初始化函数\n",
        "        self.conv1 = nn.Conv2d(3, 6, 5) # 定义conv1函数的是图像卷积函数：输入为图像（1个频道，即灰度图）,输出为 6张特征图, 卷积核为5x5正方形\n",
        "        self.pool = nn.MaxPool2d(2,2)\n",
        "        self.conv2 = nn.Conv2d(6, 16, 5)# 定义conv2函数的是图像卷积函数：输入为6张特征图,输出为16张特征图, 卷积核为5x5正方形\n",
        "        self.fc1   = nn.Linear(16*5*5, 120) # 定义fc1（fullconnect）全连接函数1为线性函数：y = Wx + b，并将16*5*5个节点连接到120个节点上。\n",
        "        self.fc2   = nn.Linear(120, 84)#定义fc2（fullconnect）全连接函数2为线性函数：y = Wx + b，并将120个节点连接到84个节点上。\n",
        "        self.fc3   = nn.Linear(84, 10)#定义fc3（fullconnect）全连接函数3为线性函数：y = Wx + b，并将84个节点连接到10个节点上。                              \n",
        "         \n",
        "    #定义Net的初始化函数，这个函数定义了该神经网络的基本结构\n",
        "                     \n",
        "    def forward(self,x):\n",
        "\n",
        "        x=self.pool(F.relu(self.conv1(x)))\n",
        "        x=self.pool(F.relu(self.conv2(x)))\n",
        "        x=torch.flatten(x,1)\n",
        "        x=F.relu(self.fc1(x))\n",
        "        x=F.relu(self.fc2(x))\n",
        "        x=self.fc3(x)\n",
        "\n",
        "        return x\n"
      ],
      "metadata": {
        "id": "vI7wXEgTZsDl"
      },
      "execution_count": null,
      "outputs": []
    },
    {
      "cell_type": "code",
      "source": [
        "net=LeNet()\n",
        "device=torch.device('cuda:0' if torch.cuda.is_available() else 'cpu')\n",
        "net.to(device)"
      ],
      "metadata": {
        "id": "Z1E3UgPRch29"
      },
      "execution_count": null,
      "outputs": []
    },
    {
      "cell_type": "code",
      "source": [
        "\n",
        "import torch.optim as optim\n",
        "\n",
        "criterion = nn.CrossEntropyLoss()\n",
        "optimizer = optim.SGD(net.parameters(),lr=0.001,momentum=0.9)\n"
      ],
      "metadata": {
        "id": "QYG-h1Z4ch0n"
      },
      "execution_count": null,
      "outputs": []
    },
    {
      "cell_type": "code",
      "source": [
        "\n",
        "\n",
        "\n",
        "for epoch in range(10):\n",
        "    \n",
        "    running_loss= 0.0\n",
        "    for i ,data in enumerate(trainloader, 0):\n",
        "        \n",
        "        inputs, labels =data\n",
        "        device=torch.device('cuda:0' if torch.cuda.is_available() else 'cpu')\n",
        "        inputs, labels =inputs.to(device), labels.to(device)\n",
        "\n",
        "\n",
        "        optimizer.zero_grad()\n",
        "        outputs=net(inputs)\n",
        "        loss =criterion(outputs,labels)\n",
        "        loss.backward()\n",
        "        optimizer.step()\n",
        "        \n",
        "        running_loss += loss.item()\n",
        "        if i % 2000 ==1999:\n",
        "            print(f'[{epoch+1},{i+1:5d}] loss: {running_loss / 2000 :.3f}')\n",
        "            running_loss =0.0\n",
        "            \n",
        "print('Finished Training')"
      ],
      "metadata": {
        "id": "hJQX2zG-chyq"
      },
      "execution_count": null,
      "outputs": []
    },
    {
      "cell_type": "code",
      "source": [
        "\n",
        "PATH ='./clfar_net.pth'\n",
        "torch.save(net.state_dict(),PATH)"
      ],
      "metadata": {
        "id": "8ZDMSJ4zchwH"
      },
      "execution_count": null,
      "outputs": []
    },
    {
      "cell_type": "code",
      "source": [
        "\n",
        "net =Net()\n",
        "net.load_state_dict(torch.load(PATH))\n",
        "\n",
        "outputs = net(images)\n",
        "\n",
        "\n",
        "\n",
        "dataiter =iter(testloader)\n",
        "images , labels =dataiter.next()\n",
        "\n",
        "\n",
        "imshow(torchvision.utils.make_grid(images))\n",
        "print('GroundTruth: ' ,''.join(f'{classes[labels[j]]:5s}' for j in range(4)))\n",
        "\n",
        "\n"
      ],
      "metadata": {
        "id": "DUmISWF1chtx"
      },
      "execution_count": null,
      "outputs": []
    },
    {
      "cell_type": "code",
      "source": [
        "correct_pred = {classname: 0 for classname in classes}\n",
        "total_pred =  {classname: 0 for classname in classes}"
      ],
      "metadata": {
        "id": "8hn1PBzddWDh"
      },
      "execution_count": null,
      "outputs": []
    },
    {
      "cell_type": "code",
      "source": [
        "with torch.no_grad():\n",
        "  for data in testloader:\n",
        "    images, labels = data\n",
        "    outputs = net(images)\n",
        "    _, predictions =torch.max(outputs, 1)\n",
        "\n",
        "    for label, prediction in zip(labels, predictions):\n",
        "      if label ==prediction:\n",
        "        correct_pred[classes[label]] += 1\n",
        "      total_pred[classes[label]] += 1\n",
        "\n",
        "\n",
        "\n",
        "for classname, correct_count in correct_pred.items():\n",
        "  accuracy =100*float(correct_count) / total_pred[classname]\n",
        "  print(f'Accuracy for class: {classname:5s} is {accuracy:.1f} %')"
      ],
      "metadata": {
        "id": "vzGOumH4chrX"
      },
      "execution_count": null,
      "outputs": []
    },
    {
      "cell_type": "code",
      "source": [
        ""
      ],
      "metadata": {
        "id": "EDtmFg3lchpC"
      },
      "execution_count": null,
      "outputs": []
    },
    {
      "cell_type": "code",
      "source": [
        "\n",
        "\n",
        "\n",
        "\n",
        "\n",
        "\n",
        "\n",
        "\n",
        "\n"
      ],
      "metadata": {
        "id": "JZsKWARUZSGC"
      },
      "execution_count": null,
      "outputs": []
    },
    {
      "cell_type": "code",
      "source": [
        "#@title\n",
        "correct_pred = {classname: 0 for classname in classes}\n",
        "total_pred  = {classname: 0 for classname in classes}\n",
        "\n",
        "with torch.no_grad():\n",
        "  for data in testloader:\n",
        "    images, labels =data\n",
        "    outputs =net(images)\n",
        "    _, predictions = torch.max(outputs,1)\n",
        "\n",
        "    for label, prediction in zip(labels, predictions)\n",
        "      if label==prediction:\n",
        "        correct_pred[classes[label]]+= 1\n",
        "      total_pred[classes[label]]+= 1\n",
        "\n",
        "for classname , correct_count in correct_pred.items():\n",
        "  accuracy= 100*float(correct_count)/total_pred[classname]\n",
        "  print(f'Accuracy for class:{classname:5s} is {accuracy:.1f} %' )"
      ],
      "metadata": {
        "id": "ZHtC4edwRv7E",
        "cellView": "form"
      },
      "execution_count": null,
      "outputs": []
    }
  ]
}