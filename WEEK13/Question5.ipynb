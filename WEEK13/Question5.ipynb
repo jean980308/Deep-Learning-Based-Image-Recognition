{
  "nbformat": 4,
  "nbformat_minor": 0,
  "metadata": {
    "colab": {
      "name": "Question5.ipynb",
      "private_outputs": true,
      "provenance": []
    },
    "kernelspec": {
      "name": "python3",
      "display_name": "Python 3"
    },
    "language_info": {
      "name": "python"
    }
  },
  "cells": [
    {
      "cell_type": "code",
      "execution_count": null,
      "metadata": {
        "id": "0TQ7rPTqOU4S"
      },
      "outputs": [],
      "source": [
        "import torch\n",
        "import torch.nn as nn\n",
        "import torch.nn.functional as F"
      ]
    },
    {
      "cell_type": "code",
      "source": [
        "class Net(nn.Module):\n",
        "  def __init__(self):\n",
        "      super().__init__()\n",
        "      self.conv1 = nn.Conv2d(3,6,5)\n",
        "      self.pool = nn.MaxPool2d(2,2)\n",
        "      self.conv2 = nn.Conv2d(6,16,5)\n",
        "      self.fc1  = nn.Linear(16*5*5, 120)\n",
        "      self.fc2  = nn.Linear(120, 84)\n",
        "      self.fc3  = nn.Linear(84, 10)\n",
        "  def forward(self,x):\n",
        "     x=self.pool(F.relu(self.conv1(x)))\n",
        "     x=self.pool(F.relu(self.conv2(x)))\n",
        "     x=torch.flatten(x,1)\n",
        "     x=F.relu(self.fc1(x))\n",
        "     x=F.relu(self.fc2(x))\n",
        "     x=self.fc3(x)\n",
        "     return x"
      ],
      "metadata": {
        "id": "KRPkMqZfOYNM"
      },
      "execution_count": null,
      "outputs": []
    },
    {
      "cell_type": "code",
      "source": [
        ""
      ],
      "metadata": {
        "id": "IVIDv2GtOaG_"
      },
      "execution_count": null,
      "outputs": []
    },
    {
      "cell_type": "code",
      "source": [
        "m=nn.Linear(20,30)\n",
        "input=torch.randn(2,20)\n",
        "input "
      ],
      "metadata": {
        "id": "bGU7wW0EObzp"
      },
      "execution_count": null,
      "outputs": []
    },
    {
      "cell_type": "code",
      "source": [
        "output = m(input)\n",
        "output"
      ],
      "metadata": {
        "id": "7xWMy-WgOf2D"
      },
      "execution_count": null,
      "outputs": []
    }
  ]
}