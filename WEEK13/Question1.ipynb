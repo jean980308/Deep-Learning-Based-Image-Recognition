{
  "nbformat": 4,
  "nbformat_minor": 0,
  "metadata": {
    "colab": {
      "name": "Question1.ipynb",
      "private_outputs": true,
      "provenance": []
    },
    "kernelspec": {
      "name": "python3",
      "display_name": "Python 3"
    },
    "language_info": {
      "name": "python"
    }
  },
  "cells": [
    {
      "cell_type": "code",
      "execution_count": null,
      "metadata": {
        "id": "r3igDZCZDeYd"
      },
      "outputs": [],
      "source": [
        "import torch\n",
        "import torch.nn as nn\n",
        "import torch.nn.functional as F"
      ]
    },
    {
      "cell_type": "code",
      "source": [
        "class Net(nn.Module):\n",
        "  def __init__(self):\n",
        "      super().__init__()\n",
        "      self.conv1 = nn.Conv2d(3,6,5)\n",
        "      self.pool = nn.MaxPool2d(2,2)\n",
        "      self.conv2 = nn.Conv2d(6,16,5)\n",
        "      self.fc1  = nn.Linear(16*5*5, 120)\n",
        "      self.fc2  = nn.Linear(120, 84)\n",
        "      self.fc3  = nn.Linear(84, 10)\n",
        "  def forward(self,x):\n",
        "     x=self.pool(F.relu(self.conv1(x)))\n",
        "     x=self.pool(F.relu(self.conv2(x)))\n",
        "     x=torch.flatten(x,1)\n",
        "     x=F.relu(self.fc1(x))\n",
        "     x=F.relu(self.fc2(x))\n",
        "     x=self.fc3(x)\n",
        "     return x\n",
        "      "
      ],
      "metadata": {
        "id": "DYjpHQGbDhrF"
      },
      "execution_count": null,
      "outputs": []
    },
    {
      "cell_type": "code",
      "source": [
        "m=nn.Conv2d(16,33,3, stride=2)\n",
        "m1=nn.Conv2d(16,33,(3,5),stride=(2,1),padding=(4,2))\n",
        "m2=nn.Conv2d(16,33,(3,5),stride=(2,1),padding=(4,2),dilation=(3,1))"
      ],
      "metadata": {
        "id": "xtMKSnK-DiWO"
      },
      "execution_count": null,
      "outputs": []
    },
    {
      "cell_type": "code",
      "source": [
        "input  = torch.randn(20,16,50,100)\n",
        "input  \n",
        "output =m(input)\n",
        "output2=m1(input)\n",
        "output3=m2(input)"
      ],
      "metadata": {
        "id": "EseUPKvdDmXX"
      },
      "execution_count": null,
      "outputs": []
    },
    {
      "cell_type": "code",
      "source": [
        "output\n"
      ],
      "metadata": {
        "id": "bjEEQLf3Il3K"
      },
      "execution_count": null,
      "outputs": []
    },
    {
      "cell_type": "code",
      "source": [
        "output２"
      ],
      "metadata": {
        "id": "n0QlmiArInmd"
      },
      "execution_count": null,
      "outputs": []
    },
    {
      "cell_type": "code",
      "source": [
        "output３"
      ],
      "metadata": {
        "id": "h-C37TMKIpgP"
      },
      "execution_count": null,
      "outputs": []
    }
  ]
}