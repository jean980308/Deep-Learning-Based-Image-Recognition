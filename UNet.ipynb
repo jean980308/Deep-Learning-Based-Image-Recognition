{
  "nbformat": 4,
  "nbformat_minor": 0,
  "metadata": {
    "colab": {
      "name": "UNet.ipynb",
      "private_outputs": true,
      "provenance": [],
      "toc_visible": true,
      "authorship_tag": "ABX9TyNg4xyafYnXVPn1v3pX2DDf",
      "include_colab_link": true
    },
    "kernelspec": {
      "name": "python3",
      "display_name": "Python 3"
    },
    "language_info": {
      "name": "python"
    }
  },
  "cells": [
    {
      "cell_type": "markdown",
      "metadata": {
        "id": "view-in-github",
        "colab_type": "text"
      },
      "source": [
        "<a href=\"https://colab.research.google.com/github/jean980308/Deep-Learning-Based-Image-Recognition/blob/main/UNet.ipynb\" target=\"_parent\"><img src=\"https://colab.research.google.com/assets/colab-badge.svg\" alt=\"Open In Colab\"/></a>"
      ]
    },
    {
      "cell_type": "markdown",
      "source": [
        "## Loss"
      ],
      "metadata": {
        "id": "_JGXWi8kYqcp"
      }
    },
    {
      "cell_type": "code",
      "source": [
        "import torch\n",
        "import torch.nn as nn\n",
        "\n",
        "def dice_loss(pred, target, smooth = 1.):\n",
        "    pred = pred.contiguous()\n",
        "    target = target.contiguous()    \n",
        "\n",
        "    intersection = (pred * target).sum(dim=2).sum(dim=2)\n",
        "    \n",
        "    loss = (1 - ((2. * intersection + smooth) / (pred.sum(dim=2).sum(dim=2) + target.sum(dim=2).sum(dim=2) + smooth)))\n",
        "    \n",
        "    return loss.mean()"
      ],
      "metadata": {
        "id": "5axFp2aVYeZe"
      },
      "execution_count": null,
      "outputs": []
    },
    {
      "cell_type": "markdown",
      "source": [
        "# helper"
      ],
      "metadata": {
        "id": "Vkn9B9HrYzbi"
      }
    },
    {
      "cell_type": "code",
      "source": [
        "import matplotlib.pyplot as plt\n",
        "import numpy as np\n",
        "\n",
        "def plot_img_array(img_array, ncol=3):\n",
        "    nrow = len(img_array) // ncol\n",
        "\n",
        "    f, plots = plt.subplots(nrow, ncol, sharex='all', sharey='all', figsize=(ncol * 4, nrow * 4))\n",
        "\n",
        "    for i in range(len(img_array)):\n",
        "        plots[i // ncol, i % ncol]\n",
        "        plots[i // ncol, i % ncol].imshow(img_array[i])\n",
        "\n",
        "from functools import reduce\n",
        "def plot_side_by_side(img_arrays):\n",
        "    flatten_list = reduce(lambda x,y: x+y, zip(*img_arrays))\n",
        "\n",
        "    plot_img_array(np.array(flatten_list), ncol=len(img_arrays))\n",
        "\n",
        "import itertools\n",
        "def plot_errors(results_dict, title):\n",
        "    markers = itertools.cycle(('+', 'x', 'o'))\n",
        "\n",
        "    plt.title('{}'.format(title))\n",
        "\n",
        "    for label, result in sorted(results_dict.items()):\n",
        "        plt.plot(result, marker=next(markers), label=label)\n",
        "        plt.ylabel('dice_coef')\n",
        "        plt.xlabel('epoch')\n",
        "        plt.legend(loc=3, bbox_to_anchor=(1, 0))\n",
        "\n",
        "    plt.show()\n",
        "\n",
        "def masks_to_colorimg(masks):\n",
        "    colors = np.asarray([(201, 58, 64), (242, 207, 1), (0, 152, 75), (101, 172, 228),(56, 34, 132), (160, 194, 56)])\n",
        "\n",
        "    colorimg = np.ones((masks.shape[1], masks.shape[2], 3), dtype=np.float32) * 255\n",
        "    channels, height, width = masks.shape\n",
        "\n",
        "    for y in range(height):\n",
        "        for x in range(width):\n",
        "            selected_colors = colors[masks[:,y,x] > 0.5]\n",
        "\n",
        "            if len(selected_colors) > 0:\n",
        "                colorimg[y,x,:] = np.mean(selected_colors, axis=0)\n",
        "\n",
        "    return colorimg.astype(np.uint8)"
      ],
      "metadata": {
        "id": "4IUUgmLoZBIH"
      },
      "execution_count": null,
      "outputs": []
    },
    {
      "cell_type": "markdown",
      "source": [
        "# simulation"
      ],
      "metadata": {
        "id": "Pef8KVPAZGBM"
      }
    },
    {
      "cell_type": "code",
      "source": [
        "import numpy as np\n",
        "import random\n",
        "\n",
        "def generate_random_data(height, width, count):\n",
        "    x, y = zip(*[generate_img_and_mask(height, width) for i in range(0, count)])\n",
        "\n",
        "    X = np.asarray(x) * 255\n",
        "    X = X.repeat(3, axis=1).transpose([0, 2, 3, 1]).astype(np.uint8)\n",
        "    Y = np.asarray(y)\n",
        "\n",
        "    return X, Y\n",
        "\n",
        "def generate_img_and_mask(height, width):\n",
        "    shape = (height, width)\n",
        "\n",
        "    triangle_location = get_random_location(*shape)\n",
        "    circle_location1 = get_random_location(*shape, zoom=0.7)\n",
        "    circle_location2 = get_random_location(*shape, zoom=0.5)\n",
        "    mesh_location = get_random_location(*shape)\n",
        "    square_location = get_random_location(*shape, zoom=0.8)\n",
        "    plus_location = get_random_location(*shape, zoom=1.2)\n",
        "\n",
        "    # Create input image\n",
        "    arr = np.zeros(shape, dtype=bool)\n",
        "    arr = add_triangle(arr, *triangle_location)\n",
        "    arr = add_circle(arr, *circle_location1)\n",
        "    arr = add_circle(arr, *circle_location2, fill=True)\n",
        "    arr = add_mesh_square(arr, *mesh_location)\n",
        "    arr = add_filled_square(arr, *square_location)\n",
        "    arr = add_plus(arr, *plus_location)\n",
        "    arr = np.reshape(arr, (1, height, width)).astype(np.float32)\n",
        "\n",
        "    # Create target masks\n",
        "    masks = np.asarray([\n",
        "        add_filled_square(np.zeros(shape, dtype=bool), *square_location),\n",
        "        add_circle(np.zeros(shape, dtype=bool), *circle_location2, fill=True),\n",
        "        add_triangle(np.zeros(shape, dtype=bool), *triangle_location),\n",
        "        add_circle(np.zeros(shape, dtype=bool), *circle_location1),\n",
        "         add_filled_square(np.zeros(shape, dtype=bool), *mesh_location),\n",
        "        # add_mesh_square(np.zeros(shape, dtype=bool), *mesh_location),\n",
        "        add_plus(np.zeros(shape, dtype=bool), *plus_location)\n",
        "    ]).astype(np.float32)\n",
        "\n",
        "    return arr, masks\n",
        "\n",
        "def add_square(arr, x, y, size):\n",
        "    s = int(size / 2)\n",
        "    arr[x-s,y-s:y+s] = True\n",
        "    arr[x+s,y-s:y+s] = True\n",
        "    arr[x-s:x+s,y-s] = True\n",
        "    arr[x-s:x+s,y+s] = True\n",
        "\n",
        "    return arr\n",
        "\n",
        "def add_filled_square(arr, x, y, size):\n",
        "    s = int(size / 2)\n",
        "\n",
        "    xx, yy = np.mgrid[:arr.shape[0], :arr.shape[1]]\n",
        "\n",
        "    return np.logical_or(arr, logical_and([xx > x - s, xx < x + s, yy > y - s, yy < y + s]))\n",
        "\n",
        "def logical_and(arrays):\n",
        "    new_array = np.ones(arrays[0].shape, dtype=bool)\n",
        "    for a in arrays:\n",
        "        new_array = np.logical_and(new_array, a)\n",
        "\n",
        "    return new_array\n",
        "\n",
        "def add_mesh_square(arr, x, y, size):\n",
        "    s = int(size / 2)\n",
        "\n",
        "    xx, yy = np.mgrid[:arr.shape[0], :arr.shape[1]]\n",
        "\n",
        "    return np.logical_or(arr, logical_and([xx > x - s, xx < x + s, xx % 2 == 1, yy > y - s, yy < y + s, yy % 2 == 1]))\n",
        "\n",
        "def add_triangle(arr, x, y, size):\n",
        "    s = int(size / 2)\n",
        "\n",
        "    triangle = np.tril(np.ones((size, size), dtype=bool))\n",
        "\n",
        "    arr[x-s:x-s+triangle.shape[0],y-s:y-s+triangle.shape[1]] = triangle\n",
        "\n",
        "    return arr\n",
        "\n",
        "def add_circle(arr, x, y, size, fill=False):\n",
        "    xx, yy = np.mgrid[:arr.shape[0], :arr.shape[1]]\n",
        "    circle = np.sqrt((xx - x) ** 2 + (yy - y) ** 2)\n",
        "    new_arr = np.logical_or(arr, np.logical_and(circle < size, circle >= size * 0.7 if not fill else True))\n",
        "\n",
        "    return new_arr\n",
        "\n",
        "def add_plus(arr, x, y, size):\n",
        "    s = int(size / 2)\n",
        "    arr[x-1:x+1,y-s:y+s] = True\n",
        "    arr[x-s:x+s,y-1:y+1] = True\n",
        "\n",
        "    return arr\n",
        "\n",
        "def get_random_location(width, height, zoom=1.0):\n",
        "    x = int(width * random.uniform(0.1, 0.9))\n",
        "    y = int(height * random.uniform(0.1, 0.9))\n",
        "\n",
        "    size = int(min(width, height) * random.uniform(0.06, 0.12) * zoom)\n",
        "\n",
        "    return (x, y, size)"
      ],
      "metadata": {
        "id": "TAs41hxsZItc"
      },
      "execution_count": null,
      "outputs": []
    },
    {
      "cell_type": "markdown",
      "source": [
        "# Synthetic images for demo training"
      ],
      "metadata": {
        "id": "Q8o0tt5TZqYX"
      }
    },
    {
      "cell_type": "code",
      "execution_count": null,
      "metadata": {
        "id": "sc0Uij5OUncV"
      },
      "outputs": [],
      "source": [
        "import matplotlib.pyplot as plt\n",
        "import numpy as np\n",
        "\n",
        "\n",
        "input_images,target_masks=generate_random_data(256,256, count=3)\n",
        "\n",
        "print(\"input_images shape and range\" ,input_images.shape, input_images.min(),input_images.max())\n",
        "print(\"target_masks shape and range\" ,target_masks.shape, target_masks.min(),target_masks.max())\n",
        "\n",
        "\n",
        "input_images_rgb = [x.astype(np.uint8) for x in input_images]\n",
        "\n",
        "target_masks_rgb = [masks_to_colorimg(x) for x in target_masks]\n",
        "\n",
        "\n",
        "\n",
        "\n"
      ]
    },
    {
      "cell_type": "markdown",
      "source": [
        "# Synthetic images for demo training"
      ],
      "metadata": {
        "id": "ovv9KHYuZuqu"
      }
    },
    {
      "cell_type": "code",
      "source": [
        "plot_side_by_side([input_images_rgb, target_masks_rgb])"
      ],
      "metadata": {
        "id": "pI5UEfc5YAMs"
      },
      "execution_count": null,
      "outputs": []
    },
    {
      "cell_type": "markdown",
      "source": [
        "# Prepare Dataset and DataLoader"
      ],
      "metadata": {
        "id": "wKgY0KuVZ0Rf"
      }
    },
    {
      "cell_type": "code",
      "source": [
        "from torch.utils.data import Dataset, DataLoader\n",
        "from torchvision    import transforms , datasets, models\n",
        "\n",
        "class SimDataset(Dataset):\n",
        "  def __init__(self, count, transform=None):\n",
        "    self.input_images, self.target_masks =generate_random_data(256,256,count=count)\n",
        "    self.transform = transform\n",
        "\n",
        "  def __len__(self):\n",
        "    return len(self.input_images)\n",
        "\n",
        "  def __getitem__(self,idx):\n",
        "    image = self.input_images[idx]\n",
        "    mask = self.target_masks[idx]\n",
        "    if self.transform:\n",
        "      image = self.transform(image)\n",
        "\n",
        "    return [image, mask]\n",
        "\n",
        "trans = transforms.Compose([\n",
        "                transforms.ToTensor(),\n",
        "                transforms.Normalize([0.485,0.456,0.406],[0.229,0.224,0.225])\n",
        "])\n",
        "\n",
        "train_set= SimDataset(1000,transform=trans)\n",
        "val_set = SimDataset(200,transform=trans)\n",
        "image_datasets = {\n",
        "    'train':train_set,'val':val_set\n",
        "}\n",
        "\n",
        "batch_size = 25\n",
        "\n",
        "dataloaders = {\n",
        "    'train': DataLoader(train_set,batch_size=batch_size, shuffle=True, num_workers=0),\n",
        "    'val':  DataLoader(val_set ,batch_size=batch_size, shuffle=True, num_workers=0)\n",
        "}\n",
        "\n"
      ],
      "metadata": {
        "id": "IHC-fSp8YQ9h"
      },
      "execution_count": null,
      "outputs": []
    },
    {
      "cell_type": "markdown",
      "source": [
        "# Check the outputs from DataLoader"
      ],
      "metadata": {
        "id": "KS-8EDQ7gMBj"
      }
    },
    {
      "cell_type": "code",
      "source": [
        "import torchvision.utils\n",
        "\n",
        "def reverse_transform(inp):\n",
        "  inp = inp.numpy().transpose((1,2,0))\n",
        "  mean=  np.array([0.485,0.456,0.406])\n",
        "  std=  np.array([0.229,0.224,0.225])\n",
        "  inp=std*inp+mean\n",
        "  inp=np.clip(inp,0,1)\n",
        "  inp=(inp*255).astype(np.uint8)\n",
        "\n",
        "  return inp\n",
        "\n",
        "inputs , masks =next(iter(dataloaders['train']))\n",
        "\n",
        "print(inputs.shape,masks.shape)\n",
        "\n",
        "plt.imshow(reverse_transform(inputs[3]))"
      ],
      "metadata": {
        "id": "0Xkd4vmWgRKx"
      },
      "execution_count": null,
      "outputs": []
    },
    {
      "cell_type": "markdown",
      "source": [
        "# DoubleCpmv"
      ],
      "metadata": {
        "id": "PpMgyEf8fwle"
      }
    },
    {
      "cell_type": "code",
      "source": [
        "def double_conv(in_channels,out_channels):\n",
        "  return nn.Sequential(\n",
        "      nn.Conv2d(in_channels,out_channels,3,padding=1),\n",
        "      nn.ReLU(inplace=True),\n",
        "      nn.Conv2d(out_channels,out_channels,3,padding=1),\n",
        "      nn.ReLU(inplace=True)\n",
        "\n",
        "  )"
      ],
      "metadata": {
        "id": "dSbNRECNf3A0"
      },
      "execution_count": null,
      "outputs": []
    },
    {
      "cell_type": "markdown",
      "source": [
        "# Define a UNet module"
      ],
      "metadata": {
        "id": "grh3px3DiGy9"
      }
    },
    {
      "cell_type": "code",
      "source": [
        "class UNet(nn.Module):\n",
        "  def __init__(self, n_channels, n_class):\n",
        "    super().__init__()\n",
        "\n",
        "    self.dconv_down1 = double_conv(n_channels, 64)\n",
        "    self.dconv_down2 = double_conv(64,128)\n",
        "    self.dconv_down3 = double_conv(128,256)\n",
        "    self.dconv_down4 = double_conv(256,512)\n",
        "\n",
        "    self.maxpool = nn.MaxPool2d(2)\n",
        "\n",
        "    self.dconv_up3 = double_conv(256+512, 256)\n",
        "    self.dconv_up2 = double_conv(128+256, 128)\n",
        "    self.dconv_up1 = double_conv(128+64 , 64)\n",
        "\n",
        "    self.conv_last = nn.Conv2d(64, n_class, 1)\n",
        "\n",
        "  def forward(self,x):\n",
        "\n",
        "    conv1 = self.dconv_down1(x)\n",
        "    x= self.maxpool(conv1)\n",
        "\n",
        "    conv2 = self.dconv_down2(x)\n",
        "    x= self.maxpool(conv2)\n",
        "\n",
        "    conv3 = self.dconv_down3(x)\n",
        "    x= self.maxpool(conv3)\n",
        "\n",
        "    x=self.dconv_down4(x)\n",
        "\n",
        "    x=nn.functional.interpolate(x, scale_factor=2, mode='bilinear',align_corners=True)\n",
        "    x=torch.cat([x,conv3],dim=1)\n",
        "\n",
        "    x=self.dconv_up3(x)\n",
        "    x=nn.functional.interpolate(x, scale_factor=2, mode='bilinear',align_corners=True)\n",
        "    x=torch.cat([x,conv2],dim=1)\n",
        "\n",
        "    x=self.dconv_up2(x)\n",
        "    x=nn.functional.interpolate(x, scale_factor=2, mode='bilinear',align_corners=True)\n",
        "    x=torch.cat([x,conv1],dim=1)\n",
        "\n",
        "    x=self.dconv_up1(x)\n",
        "\n",
        "    out=self.conv_last(x)\n",
        "\n",
        "    return out"
      ],
      "metadata": {
        "id": "E9n6z3J7ida6"
      },
      "execution_count": null,
      "outputs": []
    },
    {
      "cell_type": "markdown",
      "source": [
        "# Define loss and metric of training"
      ],
      "metadata": {
        "id": "BIvhT6utotnW"
      }
    },
    {
      "cell_type": "code",
      "source": [
        "from collections import defaultdict\n",
        "import torch.nn.functional as F\n",
        "\n",
        "checkpoint_path = \"checkpoint.pth\"\n",
        "\n",
        "def calc_loss(pred, target, metrics, bce_weight=0.5):\n",
        "  bce = F.binary_cross_entropy_with_logits(pred,target)\n",
        "  pred=torch.sigmoid(pred)\n",
        "  dice=dice_loss(pred,target)\n",
        "\n",
        "  loss=bce*bce_weight+dice*(1-bce_weight)\n",
        "\n",
        "  metrics['bce'] +=bce.data.cpu().numpy()*target.size(0)\n",
        "  metrics['dice'] +=bce.data.cpu().numpy()*target.size(0)\n",
        "  metrics['loss'] +=bce.data.cpu().numpy()*target.size(0)\n",
        "\n",
        "  return loss\n",
        "\n",
        "def print_metrics(metrics, epoch_samples, phase):\n",
        "  outputs =[]\n",
        "  for k in metrics.keys():\n",
        "    outputs.append(\"{}: {:4f}\".format(k,metrics[k]/epoch_samples))\n",
        "  print(\"{}:{}\".format(phase,\",\".join(outputs)))\n",
        "\n",
        "  \n",
        "\n"
      ],
      "metadata": {
        "id": "rVUwHNshovUL"
      },
      "execution_count": null,
      "outputs": []
    },
    {
      "cell_type": "markdown",
      "source": [
        "# Define the main training loop"
      ],
      "metadata": {
        "id": "R-FPyU1srtn0"
      }
    },
    {
      "cell_type": "code",
      "source": [
        "def train_model(model,optimizer,scheduler,num_epochs=25):\n",
        "  best_loss=1e10\n",
        "\n",
        "  for epoch in range(num_epochs):\n",
        "    print('Epoch{}/{}'.format(epoch,num_epochs-1))\n",
        "    print('-'*10)\n",
        "\n",
        "    since=time.time()\n",
        "\n",
        "    for phase in ['train','val']:\n",
        "      if phase =='train':\n",
        "        model.train()\n",
        "      else:\n",
        "        model.eval()\n",
        "      metrics= defaultdict(float)\n",
        "      epoch_samples=0\n",
        "\n",
        "      for inputs, labels in dataloaders[phase]:\n",
        "        inputs=inputs.to(device)\n",
        "        labels=labels.to(device)\n",
        "\n",
        "        optimizer.zero_grad()\n",
        "\n",
        "        with torch.set_grad_enabled(phase == 'train'):\n",
        "          outputs=model(inputs)\n",
        "          loss = calc_loss(outputs,labels,metrics)\n",
        "\n",
        "          if phase == 'train':\n",
        "            loss.backward()\n",
        "            optimizer.step()\n",
        "        epoch_samples += inputs.size(0)\n",
        "      \n",
        "      print_metrics(metrics,epoch_samples,phase)\n",
        "      epoch_loss = metrics['loss'] / epoch_samples\n",
        "\n",
        "      if phase == 'train':\n",
        "        scheduler.step()\n",
        "        for param_group in optimizer.param_groups:\n",
        "          print(\"LR\",param_group['lr'])\n",
        "\n",
        "      if phase == 'val' and epoch_loss < best_loss:\n",
        "        print(f\"saving best model to {checkpoint_path}\")\n",
        "        best_loss = epoch_loss \n",
        "        torch.save(model.state_dict(), checkpoint_path)\n",
        "\n",
        "    time_elapsed=time.time() - since\n",
        "    print('{:.0f}m {:.0f}s' .format(time_elapsed //60,time_elapsed % 60))\n",
        "  \n",
        "  print('Best val loss: {:4f}'.format(best_loss))\n",
        "\n",
        "  model.load_state_dict(torch.load(checkpoint_path))\n",
        "  return model\n",
        "  "
      ],
      "metadata": {
        "id": "SAy2BKyTrwze"
      },
      "execution_count": null,
      "outputs": []
    },
    {
      "cell_type": "markdown",
      "source": [
        "# Training process"
      ],
      "metadata": {
        "id": "7qOu2chpxEhp"
      }
    },
    {
      "cell_type": "code",
      "source": [
        "import torch\n",
        "import torch.optim as optim\n",
        "from torch.optim import lr_scheduler\n",
        "import time\n",
        "\n",
        "num_class=6\n",
        "\n",
        "#device =torch.device(\"cpu\")\n",
        "model = UNet(3,num_class)\n",
        "\n",
        "optimizer_ft = optim.Adam(filter(lambda p: p.requires_grad, model.parameters()), lr=1e-4)\n",
        "\n",
        "exp_lr_scheduler = lr_scheduler.StepLR(optimizer_ft,step_size=8, gamma=0.1)\n",
        "\n",
        "model = train_model(model,optimizer_ft,exp_lr_scheduler,num_epochs=5)\n"
      ],
      "metadata": {
        "id": "VCvvoi13xHYN"
      },
      "execution_count": null,
      "outputs": []
    }
  ]
}